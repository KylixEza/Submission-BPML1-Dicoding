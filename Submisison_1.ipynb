{
  "nbformat": 4,
  "nbformat_minor": 0,
  "metadata": {
    "colab": {
      "provenance": []
    },
    "kernelspec": {
      "name": "python3",
      "display_name": "Python 3"
    },
    "language_info": {
      "name": "python"
    },
    "accelerator": "GPU",
    "gpuClass": "standard"
  },
  "cells": [
    {
      "cell_type": "code",
      "execution_count": 78,
      "metadata": {
        "id": "-MSwESfFDDJY"
      },
      "outputs": [],
      "source": [
        "import pandas as pd\n",
        "import tensorflow as tf\n",
        "import numpy as np\n",
        "import re\n",
        "\n",
        "import nltk\n",
        "from nltk import sent_tokenize, word_tokenize\n",
        "from nltk.corpus import stopwords\n",
        "\n",
        "from sklearn.model_selection import train_test_split\n",
        "\n",
        "from tensorflow.keras.preprocessing.text import Tokenizer\n",
        "from tensorflow.keras.preprocessing.sequence import pad_sequences\n",
        "from tensorflow.keras.models import Sequential\n",
        "from tensorflow.keras.layers import Embedding\n",
        "from tensorflow.keras.layers import LSTM\n",
        "from tensorflow.keras.layers import Dense\n",
        "from tensorflow.keras.layers import Dropout\n",
        "from tensorflow.keras.callbacks import Callback\n",
        "\n",
        "import matplotlib.pyplot as plt\n"
      ]
    },
    {
      "cell_type": "code",
      "source": [
        "nltk.download('punkt')\n",
        "nltk.download('stopwords')"
      ],
      "metadata": {
        "colab": {
          "base_uri": "https://localhost:8080/"
        },
        "id": "bnZEQFiUOVby",
        "outputId": "346a85fe-79c6-4e7b-a5ae-33224548a741"
      },
      "execution_count": 79,
      "outputs": [
        {
          "output_type": "stream",
          "name": "stderr",
          "text": [
            "[nltk_data] Downloading package punkt to /root/nltk_data...\n",
            "[nltk_data]   Package punkt is already up-to-date!\n",
            "[nltk_data] Downloading package stopwords to /root/nltk_data...\n",
            "[nltk_data]   Package stopwords is already up-to-date!\n"
          ]
        },
        {
          "output_type": "execute_result",
          "data": {
            "text/plain": [
              "True"
            ]
          },
          "metadata": {},
          "execution_count": 79
        }
      ]
    },
    {
      "cell_type": "code",
      "source": [
        "df = pd.read_csv(\"depression_dataset.csv\")"
      ],
      "metadata": {
        "id": "1QXHmMbNF4Z4"
      },
      "execution_count": 80,
      "outputs": []
    },
    {
      "cell_type": "code",
      "source": [
        "df.info()"
      ],
      "metadata": {
        "colab": {
          "base_uri": "https://localhost:8080/"
        },
        "id": "GpVXyUzkF_5o",
        "outputId": "747dce3a-ad80-4408-c3c1-954b896663d5"
      },
      "execution_count": 81,
      "outputs": [
        {
          "output_type": "stream",
          "name": "stdout",
          "text": [
            "<class 'pandas.core.frame.DataFrame'>\n",
            "RangeIndex: 7731 entries, 0 to 7730\n",
            "Data columns (total 2 columns):\n",
            " #   Column         Non-Null Count  Dtype \n",
            "---  ------         --------------  ----- \n",
            " 0   clean_text     7731 non-null   object\n",
            " 1   is_depression  7731 non-null   int64 \n",
            "dtypes: int64(1), object(1)\n",
            "memory usage: 120.9+ KB\n"
          ]
        }
      ]
    },
    {
      "cell_type": "code",
      "source": [
        "df.head()"
      ],
      "metadata": {
        "colab": {
          "base_uri": "https://localhost:8080/",
          "height": 206
        },
        "id": "2lwSRQiPGBbB",
        "outputId": "2cd86d92-9a25-4f10-ef79-31812523166d"
      },
      "execution_count": 82,
      "outputs": [
        {
          "output_type": "execute_result",
          "data": {
            "text/plain": [
              "                                          clean_text  is_depression\n",
              "0  we understand that most people who reply immed...              1\n",
              "1  welcome to r depression s check in post a plac...              1\n",
              "2  anyone else instead of sleeping more when depr...              1\n",
              "3  i ve kind of stuffed around a lot in my life d...              1\n",
              "4  sleep is my greatest and most comforting escap...              1"
            ],
            "text/html": [
              "\n",
              "  <div id=\"df-73f2d1fb-e255-4110-819b-d3c8d6092268\">\n",
              "    <div class=\"colab-df-container\">\n",
              "      <div>\n",
              "<style scoped>\n",
              "    .dataframe tbody tr th:only-of-type {\n",
              "        vertical-align: middle;\n",
              "    }\n",
              "\n",
              "    .dataframe tbody tr th {\n",
              "        vertical-align: top;\n",
              "    }\n",
              "\n",
              "    .dataframe thead th {\n",
              "        text-align: right;\n",
              "    }\n",
              "</style>\n",
              "<table border=\"1\" class=\"dataframe\">\n",
              "  <thead>\n",
              "    <tr style=\"text-align: right;\">\n",
              "      <th></th>\n",
              "      <th>clean_text</th>\n",
              "      <th>is_depression</th>\n",
              "    </tr>\n",
              "  </thead>\n",
              "  <tbody>\n",
              "    <tr>\n",
              "      <th>0</th>\n",
              "      <td>we understand that most people who reply immed...</td>\n",
              "      <td>1</td>\n",
              "    </tr>\n",
              "    <tr>\n",
              "      <th>1</th>\n",
              "      <td>welcome to r depression s check in post a plac...</td>\n",
              "      <td>1</td>\n",
              "    </tr>\n",
              "    <tr>\n",
              "      <th>2</th>\n",
              "      <td>anyone else instead of sleeping more when depr...</td>\n",
              "      <td>1</td>\n",
              "    </tr>\n",
              "    <tr>\n",
              "      <th>3</th>\n",
              "      <td>i ve kind of stuffed around a lot in my life d...</td>\n",
              "      <td>1</td>\n",
              "    </tr>\n",
              "    <tr>\n",
              "      <th>4</th>\n",
              "      <td>sleep is my greatest and most comforting escap...</td>\n",
              "      <td>1</td>\n",
              "    </tr>\n",
              "  </tbody>\n",
              "</table>\n",
              "</div>\n",
              "      <button class=\"colab-df-convert\" onclick=\"convertToInteractive('df-73f2d1fb-e255-4110-819b-d3c8d6092268')\"\n",
              "              title=\"Convert this dataframe to an interactive table.\"\n",
              "              style=\"display:none;\">\n",
              "        \n",
              "  <svg xmlns=\"http://www.w3.org/2000/svg\" height=\"24px\"viewBox=\"0 0 24 24\"\n",
              "       width=\"24px\">\n",
              "    <path d=\"M0 0h24v24H0V0z\" fill=\"none\"/>\n",
              "    <path d=\"M18.56 5.44l.94 2.06.94-2.06 2.06-.94-2.06-.94-.94-2.06-.94 2.06-2.06.94zm-11 1L8.5 8.5l.94-2.06 2.06-.94-2.06-.94L8.5 2.5l-.94 2.06-2.06.94zm10 10l.94 2.06.94-2.06 2.06-.94-2.06-.94-.94-2.06-.94 2.06-2.06.94z\"/><path d=\"M17.41 7.96l-1.37-1.37c-.4-.4-.92-.59-1.43-.59-.52 0-1.04.2-1.43.59L10.3 9.45l-7.72 7.72c-.78.78-.78 2.05 0 2.83L4 21.41c.39.39.9.59 1.41.59.51 0 1.02-.2 1.41-.59l7.78-7.78 2.81-2.81c.8-.78.8-2.07 0-2.86zM5.41 20L4 18.59l7.72-7.72 1.47 1.35L5.41 20z\"/>\n",
              "  </svg>\n",
              "      </button>\n",
              "      \n",
              "  <style>\n",
              "    .colab-df-container {\n",
              "      display:flex;\n",
              "      flex-wrap:wrap;\n",
              "      gap: 12px;\n",
              "    }\n",
              "\n",
              "    .colab-df-convert {\n",
              "      background-color: #E8F0FE;\n",
              "      border: none;\n",
              "      border-radius: 50%;\n",
              "      cursor: pointer;\n",
              "      display: none;\n",
              "      fill: #1967D2;\n",
              "      height: 32px;\n",
              "      padding: 0 0 0 0;\n",
              "      width: 32px;\n",
              "    }\n",
              "\n",
              "    .colab-df-convert:hover {\n",
              "      background-color: #E2EBFA;\n",
              "      box-shadow: 0px 1px 2px rgba(60, 64, 67, 0.3), 0px 1px 3px 1px rgba(60, 64, 67, 0.15);\n",
              "      fill: #174EA6;\n",
              "    }\n",
              "\n",
              "    [theme=dark] .colab-df-convert {\n",
              "      background-color: #3B4455;\n",
              "      fill: #D2E3FC;\n",
              "    }\n",
              "\n",
              "    [theme=dark] .colab-df-convert:hover {\n",
              "      background-color: #434B5C;\n",
              "      box-shadow: 0px 1px 3px 1px rgba(0, 0, 0, 0.15);\n",
              "      filter: drop-shadow(0px 1px 2px rgba(0, 0, 0, 0.3));\n",
              "      fill: #FFFFFF;\n",
              "    }\n",
              "  </style>\n",
              "\n",
              "      <script>\n",
              "        const buttonEl =\n",
              "          document.querySelector('#df-73f2d1fb-e255-4110-819b-d3c8d6092268 button.colab-df-convert');\n",
              "        buttonEl.style.display =\n",
              "          google.colab.kernel.accessAllowed ? 'block' : 'none';\n",
              "\n",
              "        async function convertToInteractive(key) {\n",
              "          const element = document.querySelector('#df-73f2d1fb-e255-4110-819b-d3c8d6092268');\n",
              "          const dataTable =\n",
              "            await google.colab.kernel.invokeFunction('convertToInteractive',\n",
              "                                                     [key], {});\n",
              "          if (!dataTable) return;\n",
              "\n",
              "          const docLinkHtml = 'Like what you see? Visit the ' +\n",
              "            '<a target=\"_blank\" href=https://colab.research.google.com/notebooks/data_table.ipynb>data table notebook</a>'\n",
              "            + ' to learn more about interactive tables.';\n",
              "          element.innerHTML = '';\n",
              "          dataTable['output_type'] = 'display_data';\n",
              "          await google.colab.output.renderOutput(dataTable, element);\n",
              "          const docLink = document.createElement('div');\n",
              "          docLink.innerHTML = docLinkHtml;\n",
              "          element.appendChild(docLink);\n",
              "        }\n",
              "      </script>\n",
              "    </div>\n",
              "  </div>\n",
              "  "
            ]
          },
          "metadata": {},
          "execution_count": 82
        }
      ]
    },
    {
      "cell_type": "markdown",
      "source": [
        "# Preprocessing"
      ],
      "metadata": {
        "id": "pufQr0wDGxJA"
      }
    },
    {
      "cell_type": "code",
      "source": [
        "def remove_stopwords(text):\n",
        "    new_list = []\n",
        "    words = word_tokenize(text)\n",
        "    stopwrds = stopwords.words('english')\n",
        "    for word in words:\n",
        "        if word not in stopwrds:\n",
        "            new_list.append(word)\n",
        "    return ' '.join(new_list)"
      ],
      "metadata": {
        "id": "XXIkRG33NCso"
      },
      "execution_count": 83,
      "outputs": []
    },
    {
      "cell_type": "code",
      "source": [
        "df['clean_text'] = df['clean_text'].apply(remove_stopwords)"
      ],
      "metadata": {
        "id": "Tec64rNbNJRp"
      },
      "execution_count": 84,
      "outputs": []
    },
    {
      "cell_type": "code",
      "source": [
        "df['clean_text']"
      ],
      "metadata": {
        "colab": {
          "base_uri": "https://localhost:8080/"
        },
        "id": "b2xAEGF-OqQx",
        "outputId": "8d8d2a2d-cf1b-41f2-d321-d45918054bca"
      },
      "execution_count": 85,
      "outputs": [
        {
          "output_type": "execute_result",
          "data": {
            "text/plain": [
              "0       understand people reply immediately op invitat...\n",
              "1       welcome r depression check post place take mom...\n",
              "2       anyone else instead sleeping depressed stay ni...\n",
              "3       kind stuffed around lot life delaying inevitab...\n",
              "4       sleep greatest comforting escape whenever wake...\n",
              "                              ...                        \n",
              "7726                                                 snow\n",
              "7727                                 moulin rouge mad cry\n",
              "7728                        trying shout find people list\n",
              "7729    ughh find red sox hat got ta wear creepy nick ...\n",
              "7730    slept wonderfully finally tried swatching new ...\n",
              "Name: clean_text, Length: 7731, dtype: object"
            ]
          },
          "metadata": {},
          "execution_count": 85
        }
      ]
    },
    {
      "cell_type": "markdown",
      "source": [
        "# Vectorization"
      ],
      "metadata": {
        "id": "AxGl2brdPYp2"
      }
    },
    {
      "cell_type": "code",
      "source": [
        "X = df['clean_text'].values\n",
        "y = df['is_depression'].values"
      ],
      "metadata": {
        "id": "nhe41XYyPNoR"
      },
      "execution_count": 86,
      "outputs": []
    },
    {
      "cell_type": "code",
      "source": [
        "X_train, X_test, y_train, y_test = train_test_split(X, y, test_size=0.2)"
      ],
      "metadata": {
        "id": "xy8HVl52QSWT"
      },
      "execution_count": 87,
      "outputs": []
    },
    {
      "cell_type": "code",
      "source": [
        "MAX_LEN = 60\n",
        "tokenizer = Tokenizer(num_words=MAX_LEN, oov_token='x')\n",
        "tokenizer.fit_on_texts(X_train)\n",
        "\n",
        "train_sequence = tokenizer.texts_to_sequences(X_train)\n",
        "test_sequence = tokenizer.texts_to_sequences(X_test)"
      ],
      "metadata": {
        "id": "Tocc0dZXQ-Dg"
      },
      "execution_count": 88,
      "outputs": []
    },
    {
      "cell_type": "code",
      "source": [
        "X_train_seq = pad_sequences(train_sequence, padding='post', maxlen=MAX_LEN, truncating='post')\n",
        "X_test_seq = pad_sequences(test_sequence, padding='post', maxlen=MAX_LEN, truncating='post')"
      ],
      "metadata": {
        "id": "1SB9qMBzRXss"
      },
      "execution_count": 89,
      "outputs": []
    },
    {
      "cell_type": "markdown",
      "source": [
        "# Modeling"
      ],
      "metadata": {
        "id": "qwrL2GaRSFhB"
      }
    },
    {
      "cell_type": "code",
      "source": [
        "model = Sequential([\n",
        "    Embedding(len(tokenizer.word_index), 128, input_length=MAX_LEN),\n",
        "    LSTM(32),\n",
        "    Dense(36, activation='relu'),\n",
        "    Dropout(0.5),\n",
        "    Dense(24, activation='relu'),\n",
        "    Dropout(0.5),\n",
        "    Dense(1, activation='sigmoid')\n",
        "])"
      ],
      "metadata": {
        "id": "gDCujGJFR0aB"
      },
      "execution_count": 90,
      "outputs": []
    },
    {
      "cell_type": "code",
      "source": [
        "model.summary()"
      ],
      "metadata": {
        "colab": {
          "base_uri": "https://localhost:8080/"
        },
        "id": "k3HG1q_iaeS6",
        "outputId": "ef418481-a66a-44c2-d58f-f5df7822af57"
      },
      "execution_count": 91,
      "outputs": [
        {
          "output_type": "stream",
          "name": "stdout",
          "text": [
            "Model: \"sequential_7\"\n",
            "_________________________________________________________________\n",
            " Layer (type)                Output Shape              Param #   \n",
            "=================================================================\n",
            " embedding_7 (Embedding)     (None, 60, 128)           2108928   \n",
            "                                                                 \n",
            " lstm_7 (LSTM)               (None, 32)                20608     \n",
            "                                                                 \n",
            " dense_21 (Dense)            (None, 36)                1188      \n",
            "                                                                 \n",
            " dropout_14 (Dropout)        (None, 36)                0         \n",
            "                                                                 \n",
            " dense_22 (Dense)            (None, 24)                888       \n",
            "                                                                 \n",
            " dropout_15 (Dropout)        (None, 24)                0         \n",
            "                                                                 \n",
            " dense_23 (Dense)            (None, 1)                 25        \n",
            "                                                                 \n",
            "=================================================================\n",
            "Total params: 2,131,637\n",
            "Trainable params: 2,131,637\n",
            "Non-trainable params: 0\n",
            "_________________________________________________________________\n"
          ]
        }
      ]
    },
    {
      "cell_type": "code",
      "source": [
        "model.compile(loss='binary_crossentropy', optimizer='adam', metrics=['accuracy'])"
      ],
      "metadata": {
        "id": "8eDFuLLOTAQZ"
      },
      "execution_count": 92,
      "outputs": []
    },
    {
      "cell_type": "code",
      "source": [
        "class SelfCallback(Callback):\n",
        "    def on_epoch_end(self, epoch, logs=None):\n",
        "       if(logs.get('accuracy') > 0.956):      \n",
        "          self.model.stop_training = True"
      ],
      "metadata": {
        "id": "kqgTUCE1in9V"
      },
      "execution_count": 93,
      "outputs": []
    },
    {
      "cell_type": "code",
      "source": [
        "history = model.fit(X_train_seq, y_train, epochs=50, validation_split=0.2, verbose=2, callbacks=[SelfCallback()])"
      ],
      "metadata": {
        "colab": {
          "base_uri": "https://localhost:8080/"
        },
        "id": "zv0zuRvOTKVf",
        "outputId": "2240f7f1-f306-4a7b-b5ed-e12ef63369fb"
      },
      "execution_count": 95,
      "outputs": [
        {
          "output_type": "stream",
          "name": "stdout",
          "text": [
            "Epoch 1/50\n",
            "155/155 - 3s - loss: 0.4883 - accuracy: 0.7663 - val_loss: 0.3617 - val_accuracy: 0.8723 - 3s/epoch - 21ms/step\n",
            "Epoch 2/50\n",
            "155/155 - 1s - loss: 0.2964 - accuracy: 0.8977 - val_loss: 0.1756 - val_accuracy: 0.9458 - 1s/epoch - 7ms/step\n",
            "Epoch 3/50\n",
            "155/155 - 1s - loss: 0.1934 - accuracy: 0.9470 - val_loss: 0.1571 - val_accuracy: 0.9475 - 1s/epoch - 7ms/step\n",
            "Epoch 4/50\n",
            "155/155 - 1s - loss: 0.1830 - accuracy: 0.9472 - val_loss: 0.1641 - val_accuracy: 0.9426 - 1s/epoch - 7ms/step\n",
            "Epoch 5/50\n",
            "155/155 - 1s - loss: 0.1905 - accuracy: 0.9432 - val_loss: 0.1496 - val_accuracy: 0.9531 - 1s/epoch - 7ms/step\n",
            "Epoch 6/50\n",
            "155/155 - 1s - loss: 0.1743 - accuracy: 0.9499 - val_loss: 0.1599 - val_accuracy: 0.9466 - 1s/epoch - 7ms/step\n",
            "Epoch 7/50\n",
            "155/155 - 1s - loss: 0.1837 - accuracy: 0.9507 - val_loss: 0.2002 - val_accuracy: 0.9256 - 1s/epoch - 7ms/step\n",
            "Epoch 8/50\n",
            "155/155 - 1s - loss: 0.1841 - accuracy: 0.9483 - val_loss: 0.1522 - val_accuracy: 0.9491 - 1s/epoch - 7ms/step\n",
            "Epoch 9/50\n",
            "155/155 - 1s - loss: 0.1678 - accuracy: 0.9535 - val_loss: 0.1805 - val_accuracy: 0.9475 - 1s/epoch - 7ms/step\n",
            "Epoch 10/50\n",
            "155/155 - 1s - loss: 0.1734 - accuracy: 0.9505 - val_loss: 0.1417 - val_accuracy: 0.9523 - 1s/epoch - 7ms/step\n",
            "Epoch 11/50\n",
            "155/155 - 1s - loss: 0.1673 - accuracy: 0.9509 - val_loss: 0.1441 - val_accuracy: 0.9523 - 1s/epoch - 7ms/step\n",
            "Epoch 12/50\n",
            "155/155 - 1s - loss: 0.1721 - accuracy: 0.9515 - val_loss: 0.1489 - val_accuracy: 0.9523 - 1s/epoch - 7ms/step\n",
            "Epoch 13/50\n",
            "155/155 - 1s - loss: 0.1629 - accuracy: 0.9519 - val_loss: 0.1846 - val_accuracy: 0.9458 - 1s/epoch - 7ms/step\n",
            "Epoch 14/50\n",
            "155/155 - 1s - loss: 0.1592 - accuracy: 0.9533 - val_loss: 0.1526 - val_accuracy: 0.9563 - 1s/epoch - 7ms/step\n",
            "Epoch 15/50\n",
            "155/155 - 1s - loss: 0.1693 - accuracy: 0.9499 - val_loss: 0.1590 - val_accuracy: 0.9458 - 1s/epoch - 7ms/step\n",
            "Epoch 16/50\n",
            "155/155 - 1s - loss: 0.1707 - accuracy: 0.9519 - val_loss: 0.1444 - val_accuracy: 0.9547 - 1s/epoch - 7ms/step\n",
            "Epoch 17/50\n",
            "155/155 - 1s - loss: 0.1611 - accuracy: 0.9545 - val_loss: 0.1618 - val_accuracy: 0.9491 - 1s/epoch - 8ms/step\n",
            "Epoch 18/50\n",
            "155/155 - 1s - loss: 0.1680 - accuracy: 0.9503 - val_loss: 0.1493 - val_accuracy: 0.9515 - 1s/epoch - 10ms/step\n",
            "Epoch 19/50\n",
            "155/155 - 1s - loss: 0.1607 - accuracy: 0.9513 - val_loss: 0.1566 - val_accuracy: 0.9555 - 1s/epoch - 7ms/step\n",
            "Epoch 20/50\n",
            "155/155 - 1s - loss: 0.1632 - accuracy: 0.9529 - val_loss: 0.2348 - val_accuracy: 0.9491 - 1s/epoch - 7ms/step\n",
            "Epoch 21/50\n",
            "155/155 - 1s - loss: 0.1613 - accuracy: 0.9513 - val_loss: 0.1471 - val_accuracy: 0.9547 - 1s/epoch - 7ms/step\n",
            "Epoch 22/50\n",
            "155/155 - 1s - loss: 0.1556 - accuracy: 0.9517 - val_loss: 0.1679 - val_accuracy: 0.9547 - 1s/epoch - 7ms/step\n",
            "Epoch 23/50\n",
            "155/155 - 1s - loss: 0.1942 - accuracy: 0.9440 - val_loss: 0.1555 - val_accuracy: 0.9515 - 1s/epoch - 7ms/step\n",
            "Epoch 24/50\n",
            "155/155 - 1s - loss: 0.1961 - accuracy: 0.9426 - val_loss: 0.1560 - val_accuracy: 0.9531 - 1s/epoch - 7ms/step\n",
            "Epoch 25/50\n",
            "155/155 - 1s - loss: 0.1593 - accuracy: 0.9533 - val_loss: 0.1451 - val_accuracy: 0.9531 - 1s/epoch - 7ms/step\n",
            "Epoch 26/50\n",
            "155/155 - 1s - loss: 0.1579 - accuracy: 0.9501 - val_loss: 0.1529 - val_accuracy: 0.9483 - 1s/epoch - 7ms/step\n",
            "Epoch 27/50\n",
            "155/155 - 1s - loss: 0.1589 - accuracy: 0.9525 - val_loss: 0.1441 - val_accuracy: 0.9515 - 1s/epoch - 7ms/step\n",
            "Epoch 28/50\n",
            "155/155 - 1s - loss: 0.1545 - accuracy: 0.9525 - val_loss: 0.1415 - val_accuracy: 0.9515 - 1s/epoch - 7ms/step\n",
            "Epoch 29/50\n",
            "155/155 - 1s - loss: 0.1485 - accuracy: 0.9555 - val_loss: 0.1638 - val_accuracy: 0.9531 - 1s/epoch - 7ms/step\n",
            "Epoch 30/50\n",
            "155/155 - 1s - loss: 0.1488 - accuracy: 0.9543 - val_loss: 0.2131 - val_accuracy: 0.9475 - 1s/epoch - 7ms/step\n",
            "Epoch 31/50\n",
            "155/155 - 1s - loss: 0.1499 - accuracy: 0.9563 - val_loss: 0.1459 - val_accuracy: 0.9507 - 1s/epoch - 7ms/step\n"
          ]
        }
      ]
    },
    {
      "cell_type": "code",
      "source": [
        "evaluate = model.evaluate(X_test_seq, y_test)\n",
        "evaluate[1]"
      ],
      "metadata": {
        "colab": {
          "base_uri": "https://localhost:8080/"
        },
        "id": "Dd3OdZhXl5uy",
        "outputId": "559aea85-6c5e-4c99-e667-b5947aada639"
      },
      "execution_count": 97,
      "outputs": [
        {
          "output_type": "stream",
          "name": "stdout",
          "text": [
            "49/49 [==============================] - 0s 4ms/step - loss: 0.1568 - accuracy: 0.9483\n"
          ]
        },
        {
          "output_type": "execute_result",
          "data": {
            "text/plain": [
              "0.9482870101928711"
            ]
          },
          "metadata": {},
          "execution_count": 97
        }
      ]
    },
    {
      "cell_type": "markdown",
      "source": [
        "# Plot"
      ],
      "metadata": {
        "id": "ym5-KFbCZ6IR"
      }
    },
    {
      "cell_type": "code",
      "source": [
        "plt.plot(history.history['accuracy'])\n",
        "plt.plot(history.history['val_accuracy'])\n",
        "plt.title('Akurasi Model')\n",
        "plt.ylabel('accuracy')\n",
        "plt.xlabel('epoch')\n",
        "plt.legend(['train', 'test'], loc='upper left')\n",
        "plt.show()"
      ],
      "metadata": {
        "colab": {
          "base_uri": "https://localhost:8080/",
          "height": 295
        },
        "id": "0M_9dTQVZd6_",
        "outputId": "2b06aa0d-0270-4fc0-e388-65edef1b20b4"
      },
      "execution_count": 98,
      "outputs": [
        {
          "output_type": "display_data",
          "data": {
            "text/plain": [
              "<Figure size 432x288 with 1 Axes>"
            ],
            "image/png": "[encoded data removed]"
          },
          "metadata": {
            "needs_background": "light"
          }
        }
      ]
    },
    {
      "cell_type": "code",
      "source": [
        "plt.plot(history.history['loss'])\n",
        "plt.plot(history.history['val_loss'])\n",
        "plt.title('Loss Model')\n",
        "plt.ylabel('loss')\n",
        "plt.xlabel('epoch')\n",
        "plt.legend(['train', 'test'], loc='upper left')\n",
        "plt.show()"
      ],
      "metadata": {
        "colab": {
          "base_uri": "https://localhost:8080/",
          "height": 295
        },
        "id": "o3vv7YI8Z5Ci",
        "outputId": "a5396132-9728-446a-a12d-097b5e8879f6"
      },
      "execution_count": 99,
      "outputs": [
        {
          "output_type": "display_data",
          "data": {
            "text/plain": [
              "<Figure size 432x288 with 1 Axes>"
            ],
            "image/png": "[encoded data removed]"
          },
          "metadata": {
            "needs_background": "light"
          }
        }
      ]
    }
  ]
}